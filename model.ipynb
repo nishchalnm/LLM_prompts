{
 "cells": [
  {
   "cell_type": "code",
   "execution_count": 11,
   "id": "6cb111aa-b7d6-4fd1-81eb-c5d64c07dc3c",
   "metadata": {},
   "outputs": [],
   "source": [
    "%run paraphraser.py"
   ]
  },
  {
   "cell_type": "code",
   "execution_count": 12,
   "id": "3feab512-b455-47e2-9b29-fec273059f56",
   "metadata": {},
   "outputs": [],
   "source": [
    "para = Paraphraser(\n",
    "    model_path=\"/Users/nishchalmishra/Desktop/Projects/Chatgpt_prompts_streamlit\",\n",
    "    device=\"cpu\"\n",
    ")"
   ]
  },
  {
   "cell_type": "code",
   "execution_count": 13,
   "id": "4d50af56-a39c-43c4-9e07-b8b6d6e7cca6",
   "metadata": {},
   "outputs": [
    {
     "name": "stdout",
     "output_type": "stream",
     "text": [
      "Paraphrase 1: What are the steps to teach a dog ballet?\n",
      "Paraphrase 2: Can you provide guidance on how to teach a dog ballet?\n",
      "Paraphrase 3: How do I go about teaching a dog to perform ballet?\n",
      "Paraphrase 4: What are the steps to teach a dog ballet? Request\n",
      "Paraphrase 5: What are the steps to teach a dog ballet? Request request\n"
     ]
    }
   ],
   "source": [
    "text = \"How can I teach dog ballet?\"\n",
    "\n",
    "paraphrases = para.paraphrase(text, num_return_sequences=5)\n",
    "\n",
    "for i, paraphrase in enumerate(paraphrases):\n",
    "    print(f\"Paraphrase {i+1}: {paraphrase}\")"
   ]
  }
 ],
 "metadata": {
  "kernelspec": {
   "display_name": "Python 3 (ipykernel)",
   "language": "python",
   "name": "python3"
  },
  "language_info": {
   "codemirror_mode": {
    "name": "ipython",
    "version": 3
   },
   "file_extension": ".py",
   "mimetype": "text/x-python",
   "name": "python",
   "nbconvert_exporter": "python",
   "pygments_lexer": "ipython3",
   "version": "3.9.12"
  }
 },
 "nbformat": 4,
 "nbformat_minor": 5
}
